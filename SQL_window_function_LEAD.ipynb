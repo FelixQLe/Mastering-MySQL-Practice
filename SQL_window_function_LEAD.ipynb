{
 "cells": [
  {
   "cell_type": "markdown",
   "id": "2ed5d825",
   "metadata": {},
   "source": [
    "### steps\n",
    "1. Create an sample SQL database\n",
    "2. performing SQL window on database"
   ]
  },
  {
   "cell_type": "code",
   "execution_count": 3,
   "id": "1d8be74a",
   "metadata": {},
   "outputs": [],
   "source": [
    "import sqlite3\n",
    "from sqlite3 import Error"
   ]
  },
  {
   "cell_type": "code",
   "execution_count": 7,
   "id": "f6d4b32b",
   "metadata": {},
   "outputs": [],
   "source": [
    "#Create table train schedule\n",
    "def create_connection(db_file):\n",
    "    \"\"\" create a database connection to the SQLite database\n",
    "        specified by db_file\n",
    "    :param db_file: database file\n",
    "    :return: Connection object or None\n",
    "    \"\"\"\n",
    "    conn = None\n",
    "    try:\n",
    "        conn = sqlite3.connect(db_file)\n",
    "    except Error as e:\n",
    "        print(e)\n",
    "    return conn\n",
    "\n",
    "def create_station_table(conn, stations):\n",
    "    \"\"\"\n",
    "    Create a new task\n",
    "    :param conn:\n",
    "    :param employees:\n",
    "    :return:\n",
    "    \"\"\"\n",
    "    sql_station_table = '''\n",
    "                        CREATE TABLE IF NOT EXISTS stations_schedule\n",
    "                        (\n",
    "                        [Train_id] INTERGER,\n",
    "                        [Station] TEXT,\n",
    "                        [Time] TIME\n",
    "                        )\n",
    "                        ;'''\n",
    "                        #INTERGER PRIMARY KEY need to be unique\n",
    "    sql = '''\n",
    "            INSERT INTO stations_schedule(Train_id, Station, Time)\n",
    "            VALUES(?,?,?)\n",
    "            ;'''\n",
    "    cur = conn.cursor()\n",
    "    cur.execute(sql_station_table)\n",
    "    cur.executemany(sql, stations)\n",
    "    conn.commit()\n",
    "    #return cur.lastrowid\n",
    "    \n",
    "def main():\n",
    "    database = r\"/Users/hople/Desktop/Bootcamp_practices/SQL_window_function/sql_window_lead.bd\"\n",
    "    \n",
    "    conn = create_connection(database)\n",
    "    with conn:\n",
    "        task = [(110, 'San Francisco', \"10:00:00\"),\n",
    "                (110, 'Redwood City', \"10:54:00\"),\n",
    "                (110, 'Palo Alto', \"11:02:00\"),\n",
    "                (110, 'San Jose', \"12:35:00\"),\n",
    "                (120, 'San Francisco', \"11:00:00\"),\n",
    "                (120, 'Redwood City', \"Non Stop\"),\n",
    "                (120, 'Palo Alto', \"12:49:00\"),\n",
    "                (120, 'San Jose', \"13:30:00\"),\n",
    "                ]\n",
    "        #create station table with query task\n",
    "        create_station_table(conn, task)\n",
    "\n",
    "if __name__=='__main__':\n",
    "    main()"
   ]
  },
  {
   "cell_type": "code",
   "execution_count": 8,
   "id": "1767545d",
   "metadata": {},
   "outputs": [],
   "source": [
    "from sqlite3 import connect\n",
    "import pandas as pd"
   ]
  },
  {
   "cell_type": "code",
   "execution_count": null,
   "id": "bfbcf6e6",
   "metadata": {},
   "outputs": [],
   "source": [
    "#connect to database"
   ]
  }
 ],
 "metadata": {
  "kernelspec": {
   "display_name": "Python 3.8 (tensorflow)",
   "language": "python",
   "name": "lighthouse"
  },
  "language_info": {
   "codemirror_mode": {
    "name": "ipython",
    "version": 3
   },
   "file_extension": ".py",
   "mimetype": "text/x-python",
   "name": "python",
   "nbconvert_exporter": "python",
   "pygments_lexer": "ipython3",
   "version": "3.9.13"
  }
 },
 "nbformat": 4,
 "nbformat_minor": 5
}
