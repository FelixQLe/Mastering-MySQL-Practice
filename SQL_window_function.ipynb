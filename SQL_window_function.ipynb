{
 "cells": [
  {
   "cell_type": "markdown",
   "id": "1832f1e7",
   "metadata": {},
   "source": [
    "### steps\n",
    "1. Create an sample SQL database\n",
    "2. performing SQL window on database"
   ]
  },
  {
   "cell_type": "code",
   "execution_count": 3,
   "id": "f10566be",
   "metadata": {},
   "outputs": [],
   "source": [
    "import sqlite3\n",
    "from sqlite3 import connect\n",
    "from sqlite3 import Error"
   ]
  },
  {
   "cell_type": "code",
   "execution_count": 6,
   "id": "2a596dd7",
   "metadata": {},
   "outputs": [
    {
     "ename": "SyntaxError",
     "evalue": "invalid syntax (3021911902.py, line 10)",
     "output_type": "error",
     "traceback": [
      "\u001b[0;36m  Cell \u001b[0;32mIn [6], line 10\u001b[0;36m\u001b[0m\n\u001b[0;31m    except Error as e:\u001b[0m\n\u001b[0m    ^\u001b[0m\n\u001b[0;31mSyntaxError\u001b[0m\u001b[0;31m:\u001b[0m invalid syntax\n"
     ]
    }
   ],
   "source": [
    "def create_connection(db_file):\n",
    "    \"\"\" create a database connection to the SQLite database\n",
    "        specified by db_file\n",
    "    :param db_file: database file\n",
    "    :return: Connection object or None\n",
    "    \"\"\"\n",
    "    conn = None\n",
    "    try:\n",
    "        conn = sqlite3.connect(db_file)\n",
    "    except Error as e:\n",
    "        print(e)\n",
    "            \n",
    "    return conn\n",
    "def create_employee_table(conn, input_tasks):\n",
    "    \"\"\"\n",
    "    Create a new task\n",
    "    :param conn:\n",
    "    :param task:\n",
    "    :return:\n",
    "    \"\"\"\n",
    "    sql = '''INSERT INTO employees_salary(employee_id, full_name, department, salary)\n",
    "            VALUES(?,?,?,?)'''\n",
    "    cur = conn.cursor()\n",
    "    cur.execute(sql, employees_salary)\n",
    "    conn.commit()\n",
    "    return cur.lastrowid\n",
    "\n",
    "def main():\n",
    "    database = r\"/Users/hople/Desktop/Bootcamp_practices/SQL_window_function/sql_window.db\"\n",
    "    \n",
    "    #create a database connection\n",
    "    conn = create_connection(database)\n",
    "    with conn:\n",
    "        task_1 = [(100, 'Mary Johns', 'SALES',1000.00),\n",
    "                    (101, 'Sean Moldy', 'IT', 1500.00),\n",
    "                  (102, 'Peter Dugan', 'SALES', 2000.00),\n",
    "                  (103, 'LIlian Penn', 'SALES', 1700.00),\n",
    "                  (104, 'Milton Kowarsky', 'IT', 1800.00),\n",
    "                  (105, 'Mareen Bisset', 'ACCOUNTS', 1200.00),\n",
    "                  (106, 'Airton Graue', 'ACCOUNTS', 1100.00),\n",
    "                  (107, 'Antony Therma', 'DATA', 2000.00),\n",
    "                  (108, 'Mevra Tharno', 'IT', 2200.00)]\n",
    "        \n",
    "        #create employees table\n",
    "        create_employee_table(conn, task_1)\n",
    "\n",
    "if __name__=='__main__':\n",
    "    main()\n",
    "    "
   ]
  },
  {
   "cell_type": "code",
   "execution_count": null,
   "id": "da2f068c",
   "metadata": {},
   "outputs": [],
   "source": []
  }
 ],
 "metadata": {
  "kernelspec": {
   "display_name": "Python 3.8 (tensorflow)",
   "language": "python",
   "name": "lighthouse"
  },
  "language_info": {
   "codemirror_mode": {
    "name": "ipython",
    "version": 3
   },
   "file_extension": ".py",
   "mimetype": "text/x-python",
   "name": "python",
   "nbconvert_exporter": "python",
   "pygments_lexer": "ipython3",
   "version": "3.9.13"
  }
 },
 "nbformat": 4,
 "nbformat_minor": 5
}
