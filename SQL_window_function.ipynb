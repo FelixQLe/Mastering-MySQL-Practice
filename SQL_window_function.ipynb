{
 "cells": [
  {
   "cell_type": "markdown",
   "id": "1832f1e7",
   "metadata": {},
   "source": [
    "### steps\n",
    "1. Create an sample SQL database\n",
    "2. performing SQL window on database"
   ]
  },
  {
   "cell_type": "code",
   "execution_count": 3,
   "id": "f10566be",
   "metadata": {},
   "outputs": [],
   "source": [
    "import sqlite3\n",
    "from sqlite3 import connect\n",
    "from sqlite3 import Error"
   ]
  },
  {
   "cell_type": "code",
   "execution_count": null,
   "id": "3c81fa9e",
   "metadata": {},
   "outputs": [],
   "source": [
    "def create_connection(db_file):\n",
    "    \"\"\" create a database connection to the SQLite database\n",
    "        specified by db_file\n",
    "    :param db_file: database file\n",
    "    :return: Connection object or None\n",
    "    \"\"\"\n",
    "    conn = None\n",
    "    try:\n",
    "        conn = sqlite3.connect(db_file)\n",
    "        except Error as e:\n",
    "            print(e)\n",
    "            \n",
    "    return conn\n",
    "def create_employee_table(conn, input_tasks):\n",
    "    \"\"\"\n",
    "    Create a new task\n",
    "    :param conn:\n",
    "    :param task:\n",
    "    :return:\n",
    "    \"\"\"\n",
    "    sql = '''INSERT INTO employees_salary(employee_id, full_name, department, salary)\n",
    "            VALUES(?,?,?,?)'''\n",
    "    cur = conn.cursor()\n",
    "    cur.execute(sql, employees_salary)\n",
    "    conn.commit()\n",
    "    return cur.lastrowid\n",
    "\n",
    "def main():\n",
    "    database = r\"\n",
    "    "
   ]
  }
 ],
 "metadata": {
  "kernelspec": {
   "display_name": "Python 3.8 (tensorflow)",
   "language": "python",
   "name": "lighthouse"
  },
  "language_info": {
   "codemirror_mode": {
    "name": "ipython",
    "version": 3
   },
   "file_extension": ".py",
   "mimetype": "text/x-python",
   "name": "python",
   "nbconvert_exporter": "python",
   "pygments_lexer": "ipython3",
   "version": "3.9.13"
  }
 },
 "nbformat": 4,
 "nbformat_minor": 5
}
