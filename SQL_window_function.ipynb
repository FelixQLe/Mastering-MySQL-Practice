{
 "cells": [
  {
   "cell_type": "markdown",
   "id": "1832f1e7",
   "metadata": {},
   "source": [
    "### steps\n",
    "1. Create an sample SQL database\n",
    "2. performing SQL window on database"
   ]
  },
  {
   "cell_type": "code",
   "execution_count": 8,
   "id": "f10566be",
   "metadata": {},
   "outputs": [],
   "source": [
    "import sqlite3\n",
    "from sqlite3 import Error"
   ]
  },
  {
   "cell_type": "code",
   "execution_count": 14,
   "id": "e4a9d3a4",
   "metadata": {},
   "outputs": [
    {
     "ename": "OperationalError",
     "evalue": "no such table: employees_salary",
     "output_type": "error",
     "traceback": [
      "\u001b[0;31m---------------------------------------------------------------------------\u001b[0m",
      "\u001b[0;31mOperationalError\u001b[0m                          Traceback (most recent call last)",
      "Cell \u001b[0;32mIn [14], line 39\u001b[0m\n\u001b[1;32m     36\u001b[0m         create_employee_table(conn, task_1)\n\u001b[1;32m     38\u001b[0m \u001b[38;5;28;01mif\u001b[39;00m \u001b[38;5;18m__name__\u001b[39m\u001b[38;5;241m==\u001b[39m\u001b[38;5;124m'\u001b[39m\u001b[38;5;124m__main__\u001b[39m\u001b[38;5;124m'\u001b[39m:\n\u001b[0;32m---> 39\u001b[0m     \u001b[43mmain\u001b[49m\u001b[43m(\u001b[49m\u001b[43m)\u001b[49m\n",
      "Cell \u001b[0;32mIn [14], line 36\u001b[0m, in \u001b[0;36mmain\u001b[0;34m()\u001b[0m\n\u001b[1;32m     34\u001b[0m task_1 \u001b[38;5;241m=\u001b[39m (\u001b[38;5;241m100\u001b[39m, \u001b[38;5;124m'\u001b[39m\u001b[38;5;124mMary Johns\u001b[39m\u001b[38;5;124m'\u001b[39m, \u001b[38;5;124m'\u001b[39m\u001b[38;5;124mSALES\u001b[39m\u001b[38;5;124m'\u001b[39m,\u001b[38;5;241m1000.00\u001b[39m);\n\u001b[1;32m     35\u001b[0m \u001b[38;5;66;03m#create employees table\u001b[39;00m\n\u001b[0;32m---> 36\u001b[0m \u001b[43mcreate_employee_table\u001b[49m\u001b[43m(\u001b[49m\u001b[43mconn\u001b[49m\u001b[43m,\u001b[49m\u001b[43m \u001b[49m\u001b[43mtask_1\u001b[49m\u001b[43m)\u001b[49m\n",
      "Cell \u001b[0;32mIn [14], line 24\u001b[0m, in \u001b[0;36mcreate_employee_table\u001b[0;34m(conn, employees_salary)\u001b[0m\n\u001b[1;32m     21\u001b[0m sql \u001b[38;5;241m=\u001b[39m \u001b[38;5;124m'''\u001b[39m\u001b[38;5;124mINSERT INTO employees_salary(employee_id, full_name, department, salary)\u001b[39m\n\u001b[1;32m     22\u001b[0m \u001b[38;5;124m        VALUES(?,?,?,?)\u001b[39m\u001b[38;5;124m'''\u001b[39m\n\u001b[1;32m     23\u001b[0m cur \u001b[38;5;241m=\u001b[39m conn\u001b[38;5;241m.\u001b[39mcursor()\n\u001b[0;32m---> 24\u001b[0m \u001b[43mcur\u001b[49m\u001b[38;5;241;43m.\u001b[39;49m\u001b[43mexecute\u001b[49m\u001b[43m(\u001b[49m\u001b[43msql\u001b[49m\u001b[43m,\u001b[49m\u001b[43m \u001b[49m\u001b[43memployees_salary\u001b[49m\u001b[43m)\u001b[49m\n\u001b[1;32m     25\u001b[0m conn\u001b[38;5;241m.\u001b[39mcommit()\n\u001b[1;32m     26\u001b[0m \u001b[38;5;28;01mreturn\u001b[39;00m cur\u001b[38;5;241m.\u001b[39mlastrowid\n",
      "\u001b[0;31mOperationalError\u001b[0m: no such table: employees_salary"
     ]
    }
   ],
   "source": [
    "#Create an table employee salary in sqlite database\n",
    "def create_connection(db_file):\n",
    "    \"\"\" create a database connection to the SQLite database\n",
    "        specified by db_file\n",
    "    :param db_file: database file\n",
    "    :return: Connection object or None\n",
    "    \"\"\"\n",
    "    conn = None\n",
    "    try:\n",
    "        conn = sqlite3.connect(db_file)\n",
    "    except Error as e:\n",
    "        print(e)\n",
    "            \n",
    "    return conn\n",
    "def create_employee_table(conn, employees_salary):\n",
    "    \"\"\"\n",
    "    Create a new task\n",
    "    :param conn:\n",
    "    :param employees:\n",
    "    :return:\n",
    "    \"\"\"\n",
    "    sql = '''INSERT INTO employees_salary(employee_id, full_name, department, salary)\n",
    "            VALUES(?,?,?,?)'''\n",
    "    cur = conn.cursor()\n",
    "    cur.execute(sql, employees_salary)\n",
    "    conn.commit()\n",
    "    return cur.lastrowid\n",
    "\n",
    "def main():\n",
    "    database = r\"/Users/hople/Desktop/Bootcamp_practices/SQL_window_function/sql_window.db\"\n",
    "    \n",
    "    #create a database connection\n",
    "    conn = create_connection(database)\n",
    "    with conn:\n",
    "        task_1 = (100, 'Mary Johns', 'SALES',1000.00);\n",
    "        #create employees table\n",
    "        create_employee_table(conn, task_1)\n",
    "\n",
    "if __name__=='__main__':\n",
    "    main()\n",
    "    "
   ]
  },
  {
   "cell_type": "code",
   "execution_count": 13,
   "id": "ed7c039b",
   "metadata": {},
   "outputs": [],
   "source": [
    "#        (101, 'Sean Moldy', 'IT', 1500.00),\n",
    "             #     (102, 'Peter Dugan', 'SALES', 2000.00),\n",
    "             #     (103, 'LIlian Penn', 'SALES', 1700.00),\n",
    "             #     (104, 'Milton Kowarsky', 'IT', 1800.00),\n",
    "             #     (105, 'Mareen Bisset', 'ACCOUNTS', 1200.00),\n",
    "             #     (106, 'Airton Graue', 'ACCOUNTS', 1100.00),\n",
    "              #    (107, 'Antony Therma', 'DATA', 2000.00),\n",
    "              #    (108, 'Mevra Tharno', 'IT', 2200.00)]\n",
    "        "
   ]
  },
  {
   "cell_type": "code",
   "execution_count": null,
   "id": "1028e433",
   "metadata": {},
   "outputs": [],
   "source": []
  }
 ],
 "metadata": {
  "kernelspec": {
   "display_name": "Python 3.8 (tensorflow)",
   "language": "python",
   "name": "lighthouse"
  },
  "language_info": {
   "codemirror_mode": {
    "name": "ipython",
    "version": 3
   },
   "file_extension": ".py",
   "mimetype": "text/x-python",
   "name": "python",
   "nbconvert_exporter": "python",
   "pygments_lexer": "ipython3",
   "version": "3.9.13"
  }
 },
 "nbformat": 4,
 "nbformat_minor": 5
}
