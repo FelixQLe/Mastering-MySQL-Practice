{
 "cells": [
  {
   "attachments": {},
   "cell_type": "markdown",
   "metadata": {},
   "source": [
    "### steps\n",
    "1. Create an sample SQL database\n",
    "2. create config.ini for Mysql database connection\n",
    "3. create table\n",
    "4. performing SQL window on database to solve department highest salary\n"
   ]
  },
  {
   "cell_type": "code",
   "execution_count": 2,
   "metadata": {},
   "outputs": [],
   "source": [
    "from mysql.connector import MySQLConnection, Error\n",
    "from python_mysql_dbconfig import read_db_config # Read database configuration file and return a dictionary database object"
   ]
  },
  {
   "cell_type": "code",
   "execution_count": 4,
   "metadata": {},
   "outputs": [],
   "source": [
    "def create_msql_database(name_database):\n",
    "    \"\"\"Function create MYSQL database\"\"\"\n",
    "    mydb = mysql.connector.connect(host='localhost',\n",
    "                                      user='root',\n",
    "                                      password='root')\n",
    "    \n",
    "    mycursor = mydb.cursor()\n",
    "    mycursor.execute(\"SHOW DATABASES\")\n",
    "    databases = [x[0] for x in mycursor]\n",
    "    if name_database not in databases:\n",
    "        mycursor.execute(f\"CREATE DATABASE IF NOT EXISTS {name_database}\")\n",
    "    # Check database\n",
    "\n",
    "\n",
    "def create_msql_table(query_create):\n",
    "    \"\"\"\n",
    "    Execute query to create table\n",
    "    :query_create:: to create table\n",
    "    \"\"\"\n",
    "\n",
    "    conn = None\n",
    "    try:\n",
    "        db_config = read_db_config() #Using configuration file to connect to database\n",
    "        print('Connecting to MYSQL database...')\n",
    "        conn = MySQLConnection(**db_config)\n",
    "        print('Connected to MYSQL database')\n",
    "        cursor = conn.cursor()\n",
    "        print('Creating Mysql table...')\n",
    "        cursor.execute(query_create)\n",
    "        print('Table created')\n",
    "    except Error as e:\n",
    "        print(\"Error: \", e)\n",
    "\n",
    "    finally:\n",
    "        cursor.close()\n",
    "        conn.close()\n",
    "\n",
    "def insert_msql_table(query_insert, table_values):\n",
    "    \"\"\"execute query to insert values to table\n",
    "    :query_table:: to create scheme table\n",
    "    :table_values:: to be inserted table\n",
    "    \"\"\"\n",
    "\n",
    "    conn = None\n",
    "    try:\n",
    "        db_config = read_db_config() #Using configuration file to connect to database\n",
    "        print('Connecting to MYSQL database...')\n",
    "        conn = MySQLConnection(**db_config)\n",
    "        print('Connected to MYSQL database')\n",
    "\n",
    "        cursor = conn.cursor()\n",
    "        print('creating MYSQL table...')\n",
    "        cursor.executemany(query_insert, table_values)\n",
    "\n",
    "        conn.commit()\n",
    "        print('MYSQL table created')\n",
    "\n",
    "    except Error as e:\n",
    "        print(\"Error: \", e)\n",
    "\n",
    "    finally:\n",
    "        cursor.close()\n",
    "        conn.close()"
   ]
  },
  {
   "cell_type": "code",
   "execution_count": 2,
   "metadata": {},
   "outputs": [
    {
     "ename": "NameError",
     "evalue": "name 'create_msql_table' is not defined",
     "output_type": "error",
     "traceback": [
      "\u001b[0;31m---------------------------------------------------------------------------\u001b[0m",
      "\u001b[0;31mNameError\u001b[0m                                 Traceback (most recent call last)",
      "Cell \u001b[0;32mIn[2], line 19\u001b[0m\n\u001b[1;32m     16\u001b[0m     insert_msql_table(query_insert, logs)\n\u001b[1;32m     18\u001b[0m \u001b[39mif\u001b[39;00m \u001b[39m__name__\u001b[39m \u001b[39m==\u001b[39m \u001b[39m'\u001b[39m\u001b[39m__main__\u001b[39m\u001b[39m'\u001b[39m:\n\u001b[0;32m---> 19\u001b[0m     main()\n",
      "Cell \u001b[0;32mIn[2], line 15\u001b[0m, in \u001b[0;36mmain\u001b[0;34m()\u001b[0m\n\u001b[1;32m      4\u001b[0m \u001b[39m#change Id integer and Num values for every run, to get distinct Id\u001b[39;00m\n\u001b[1;32m      5\u001b[0m logs \u001b[39m=\u001b[39m [(\u001b[39m1\u001b[39m, \u001b[39m'\u001b[39m\u001b[39m1\u001b[39m\u001b[39m'\u001b[39m),\n\u001b[1;32m      6\u001b[0m         (\u001b[39m2\u001b[39m, \u001b[39m'\u001b[39m\u001b[39m1\u001b[39m\u001b[39m'\u001b[39m),\n\u001b[1;32m      7\u001b[0m         (\u001b[39m3\u001b[39m, \u001b[39m'\u001b[39m\u001b[39m1\u001b[39m\u001b[39m'\u001b[39m),\n\u001b[0;32m   (...)\u001b[0m\n\u001b[1;32m     13\u001b[0m         (\u001b[39m9\u001b[39m, \u001b[39m'\u001b[39m\u001b[39m3\u001b[39m\u001b[39m'\u001b[39m),\n\u001b[1;32m     14\u001b[0m         (\u001b[39m10\u001b[39m, \u001b[39m'\u001b[39m\u001b[39m3\u001b[39m\u001b[39m'\u001b[39m)]\n\u001b[0;32m---> 15\u001b[0m create_msql_table(query_create)\n\u001b[1;32m     16\u001b[0m insert_msql_table(query_insert, logs)\n",
      "\u001b[0;31mNameError\u001b[0m: name 'create_msql_table' is not defined"
     ]
    }
   ],
   "source": [
    "def main():\n",
    "    query_create_employee = \"CREATE TABLE Logs (Id INTEGER PRIMARY KEY, Num VARCHAR(30));\"\n",
    "    query_create_department = \"CREATE TABLE Logs (Id INTEGER PRIMARY KEY, Num VARCHAR(30));\"\n",
    "    query_insert_employee = \"INSERT INTO Logs (Id,Num) VALUES(%s,%s)\"\n",
    "    query_insert_department = \"INSERT INTO Logs (Id,Num) VALUES(%s,%s)\"\n",
    "    #change Id integer and Num values for every run, to get distinct Id\n",
    "    logs = [(1, '1'),\n",
    "            (2, '1'),\n",
    "            (3, '1'),\n",
    "            (4, '2'), \n",
    "            (5, '1'),\n",
    "            (6, '2'),\n",
    "            (7, '2'),\n",
    "            (8, '2'),\n",
    "            (9, '3'),\n",
    "            (10, '3')]\n",
    "    create_msql_table(query_create)\n",
    "    insert_msql_table(query_insert, logs)\n",
    "\n",
    "if __name__ == '__main__':\n",
    "    main()"
   ]
  }
 ],
 "metadata": {
  "kernelspec": {
   "display_name": "sql_practises",
   "language": "python",
   "name": "python3"
  },
  "language_info": {
   "codemirror_mode": {
    "name": "ipython",
    "version": 3
   },
   "file_extension": ".py",
   "mimetype": "text/x-python",
   "name": "python",
   "nbconvert_exporter": "python",
   "pygments_lexer": "ipython3",
   "version": "3.9.12"
  },
  "orig_nbformat": 4
 },
 "nbformat": 4,
 "nbformat_minor": 2
}
