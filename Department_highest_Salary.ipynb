{
 "cells": [
  {
   "attachments": {},
   "cell_type": "markdown",
   "metadata": {},
   "source": [
    "### steps\n",
    "1. Create an sample SQL database\n",
    "2. create config.ini for Mysql database connection\n",
    "3. create table\n",
    "4. performing SQL window on database to solve department highest salary\n"
   ]
  },
  {
   "cell_type": "code",
   "execution_count": 2,
   "metadata": {},
   "outputs": [],
   "source": [
    "from mysql.connector import MySQLConnection, Error\n",
    "from python_mysql_dbconfig import read_db_config # Read database configuration file and return a dictionary database object"
   ]
  },
  {
   "cell_type": "code",
   "execution_count": 3,
   "metadata": {},
   "outputs": [],
   "source": [
    "def create_msql_database(name_database):\n",
    "    \"\"\"Function create MYSQL database\"\"\"\n",
    "    mydb = mysql.connector.connect(host='localhost',\n",
    "                                      user='root',\n",
    "                                      password='root')\n",
    "    \n",
    "    mycursor = mydb.cursor()\n",
    "    mycursor.execute(\"SHOW DATABASES\")\n",
    "    databases = [x[0] for x in mycursor]\n",
    "    if name_database not in databases:\n",
    "        mycursor.execute(f\"CREATE DATABASE IF NOT EXISTS {name_database}\")\n",
    "    # Check database\n",
    "\n",
    "\n",
    "def create_msql_table(query_create):\n",
    "    \"\"\"\n",
    "    Execute query to create table\n",
    "    :query_create:: to create table\n",
    "    \"\"\"\n",
    "    conn = None\n",
    "    try:\n",
    "        db_config = read_db_config() #Using configuration file to connect to database\n",
    "        print('Connecting to MYSQL database...')\n",
    "        conn = MySQLConnection(**db_config)\n",
    "        print('Connected to MYSQL database')\n",
    "        cursor = conn.cursor()\n",
    "        print('Creating Mysql table...')\n",
    "        cursor.execute(query_create)\n",
    "        print('Table created')\n",
    "    except Error as e:\n",
    "        print(\"Error: \", e)\n",
    "\n",
    "    finally:\n",
    "        cursor.close()\n",
    "        conn.close()\n",
    "\n",
    "def insert_msql_table(query_insert, table_values):\n",
    "    \"\"\"execute query to insert values to table\n",
    "    :query_table:: to create scheme table\n",
    "    :table_values:: to be inserted table\n",
    "    \"\"\"\n",
    "\n",
    "    conn = None\n",
    "    try:\n",
    "        db_config = read_db_config() #Using configuration file to connect to database\n",
    "        print('Connecting to MYSQL database...')\n",
    "        conn = MySQLConnection(**db_config)\n",
    "        print('Connected to MYSQL database')\n",
    "\n",
    "        cursor = conn.cursor()\n",
    "        print('Inserting values to designed table...')\n",
    "        cursor.executemany(query_insert, table_values)\n",
    "\n",
    "        conn.commit()\n",
    "        print('Values inserted to designeed table')\n",
    "\n",
    "    except Error as e:\n",
    "        print(\"Error: \", e)\n",
    "\n",
    "    finally:\n",
    "        cursor.close()\n",
    "        conn.close()"
   ]
  },
  {
   "cell_type": "code",
   "execution_count": 4,
   "metadata": {},
   "outputs": [
    {
     "name": "stdout",
     "output_type": "stream",
     "text": [
      "Connecting to MYSQL database...\n",
      "Connected to MYSQL database\n",
      "Creating Mysql table...\n",
      "Error:  1050 (42S01): Table 'department' already exists\n",
      "Connecting to MYSQL database...\n",
      "Connected to MYSQL database\n",
      "Creating Mysql table...\n",
      "Error:  1050 (42S01): Table 'employee' already exists\n",
      "Connecting to MYSQL database...\n",
      "Connected to MYSQL database\n",
      "Inserting values to designed table...\n",
      "Error:  1062 (23000): Duplicate entry '1' for key 'department.PRIMARY'\n",
      "Connecting to MYSQL database...\n",
      "Connected to MYSQL database\n",
      "Inserting values to designed table...\n",
      "Error:  1062 (23000): Duplicate entry '1' for key 'employee.PRIMARY'\n"
     ]
    }
   ],
   "source": [
    "def main():\n",
    "    query_create_employee = \"CREATE TABLE Employee (Id INT, \\\n",
    "                                                    Name VARCHAR(255), \\\n",
    "                                                    Salary INT, \\\n",
    "                                                    DepartmentId INT, \\\n",
    "                                                    PRIMARY KEY (Id), \\\n",
    "                                                    FOREIGN KEY (DepartmentId) REFERENCES Department(Id) \\\n",
    "                                                    );\"\n",
    "    \n",
    "    query_create_department = \"CREATE TABLE Department (Id INT, \\\n",
    "                                                        Name VARCHAR(255), \\\n",
    "                                                        PRIMARY KEY (Id) \\\n",
    "                                                        );\"\n",
    "    \n",
    "    query_insert_employee = \"INSERT INTO Employee (Id,Name,Salary,DepartmentId) VALUES(%s,%s,%s,%s)\"\n",
    "    query_insert_department = \"INSERT INTO Department (Id,Name) VALUES(%s,%s)\"\n",
    "    ###############\n",
    "    employee = [(1, 'Joe', 70000, 1), \\\n",
    "                (2, 'Jim', 90000, 1), \\\n",
    "                (3, 'Henry', 80000, 2), \\\n",
    "                (4, 'Sam', 60000, 2), \\\n",
    "                (5, 'Max', 90000, 1)\n",
    "                ]\n",
    "    \n",
    "    department = [(1, 'IT'),\n",
    "                (2, \"Sales\")\n",
    "                ]\n",
    "    \n",
    "    create_msql_table(query_create_department)\n",
    "    create_msql_table(query_create_employee)\n",
    "    insert_msql_table(query_insert_department, department)\n",
    "    insert_msql_table(query_insert_employee, employee)\n",
    "\n",
    "if __name__ == '__main__':\n",
    "    main()"
   ]
  },
  {
   "cell_type": "code",
   "execution_count": 30,
   "metadata": {},
   "outputs": [
    {
     "name": "stdout",
     "output_type": "stream",
     "text": [
      "(1, 'IT', 5, 'Max', 90000, 1)\n",
      "(1, 'IT', 2, 'Jim', 90000, 1)\n",
      "(3, 'IT', 1, 'Joe', 70000, 1)\n",
      "(1, 'Sales', 3, 'Henry', 80000, 2)\n",
      "(2, 'Sales', 4, 'Sam', 60000, 2)\n"
     ]
    }
   ],
   "source": [
    "query_fetching_consecutive_number = \" \\\n",
    "                                    select RANK() OVER (PARTITION BY Department ORDER BY Salary DESC) as dep_rank, \\\n",
    "                                            Department, \\\n",
    "                                            EmploymentId, \\\n",
    "                                            Employment, \\\n",
    "                                            Salary, \\\n",
    "                                            DepId \\\n",
    "                                    from ( \\\n",
    "                                            select E.Id as EmploymentId, E.Name as Employment, E.Salary, E.departmentId, D.Id as DepId, D.Name as Department\\\n",
    "                                            from Employee E, Department D \\\n",
    "                                            where E.DepartmentId = D.Id \\\n",
    "                                            ) r \\\n",
    "                                    \"\n",
    "\n",
    "try:\n",
    "    dbconfig = read_db_config()\n",
    "    conn = MySQLConnection(**dbconfig)\n",
    "    cursor = conn.cursor()\n",
    "    cursor.execute(query_fetching_consecutive_number)\n",
    "\n",
    "    row = cursor.fetchone()\n",
    "\n",
    "    while row is not None:\n",
    "        print(row)\n",
    "        row = cursor.fetchone()\n",
    "\n",
    "except Error as e:\n",
    "    print(e)\n",
    "\n",
    "finally:\n",
    "    cursor.close()\n",
    "    conn.close()"
   ]
  },
  {
   "cell_type": "code",
   "execution_count": 31,
   "metadata": {},
   "outputs": [
    {
     "name": "stdout",
     "output_type": "stream",
     "text": [
      "mysql: [Warning] Using a password on the command line interface can be insecure.\n",
      "+----------+------------+--------------+------------+--------+-------+\n",
      "| dep_rank | Department | EmploymentId | Employment | Salary | DepId |\n",
      "+----------+------------+--------------+------------+--------+-------+\n",
      "|        1 | IT         |            5 | Max        |  90000 |     1 |\n",
      "|        1 | IT         |            2 | Jim        |  90000 |     1 |\n",
      "|        3 | IT         |            1 | Joe        |  70000 |     1 |\n",
      "|        1 | Sales      |            3 | Henry      |  80000 |     2 |\n",
      "|        2 | Sales      |            4 | Sam        |  60000 |     2 |\n",
      "+----------+------------+--------------+------------+--------+-------+\n"
     ]
    }
   ],
   "source": [
    "!mysql -u root --password=root python_mysql -e \"{query_fetching_consecutive_number}\""
   ]
  },
  {
   "cell_type": "code",
   "execution_count": null,
   "metadata": {},
   "outputs": [],
   "source": []
  }
 ],
 "metadata": {
  "kernelspec": {
   "display_name": "sql_practises",
   "language": "python",
   "name": "python3"
  },
  "language_info": {
   "codemirror_mode": {
    "name": "ipython",
    "version": 3
   },
   "file_extension": ".py",
   "mimetype": "text/x-python",
   "name": "python",
   "nbconvert_exporter": "python",
   "pygments_lexer": "ipython3",
   "version": "3.9.12"
  },
  "orig_nbformat": 4
 },
 "nbformat": 4,
 "nbformat_minor": 2
}
