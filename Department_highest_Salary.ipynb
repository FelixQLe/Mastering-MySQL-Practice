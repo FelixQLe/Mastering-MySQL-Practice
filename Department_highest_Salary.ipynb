{
 "cells": [
  {
   "attachments": {},
   "cell_type": "markdown",
   "metadata": {},
   "source": [
    "### steps\n",
    "1. Create an sample SQL database\n",
    "2. create config.ini for Mysql database connection\n",
    "3. create table\n",
    "4. performing SQL window on database to solve department highest salary\n"
   ]
  },
  {
   "cell_type": "code",
   "execution_count": 2,
   "metadata": {},
   "outputs": [],
   "source": [
    "from mysql.connector import MySQLConnection, Error\n",
    "from python_mysql_dbconfig import read_db_config # Read database configuration file and return a dictionary database object"
   ]
  },
  {
   "cell_type": "code",
   "execution_count": 4,
   "metadata": {},
   "outputs": [],
   "source": [
    "def create_msql_database(name_database):\n",
    "    \"\"\"Function create MYSQL database\"\"\"\n",
    "    mydb = mysql.connector.connect(host='localhost',\n",
    "                                      user='root',\n",
    "                                      password='root')\n",
    "    \n",
    "    mycursor = mydb.cursor()\n",
    "    mycursor.execute(\"SHOW DATABASES\")\n",
    "    databases = [x[0] for x in mycursor]\n",
    "    if name_database not in databases:\n",
    "        mycursor.execute(f\"CREATE DATABASE IF NOT EXISTS {name_database}\")\n",
    "    # Check database\n",
    "\n",
    "\n",
    "def create_msql_table(query_create):\n",
    "    \"\"\"\n",
    "    Execute query to create table\n",
    "    :query_create:: to create table\n",
    "    \"\"\"\n",
    "\n",
    "    conn = None\n",
    "    try:\n",
    "        db_config = read_db_config() #Using configuration file to connect to database\n",
    "        print('Connecting to MYSQL database...')\n",
    "        conn = MySQLConnection(**db_config)\n",
    "        print('Connected to MYSQL database')\n",
    "        cursor = conn.cursor()\n",
    "        print('Creating Mysql table...')\n",
    "        cursor.execute(query_create)\n",
    "        print('Table created')\n",
    "    except Error as e:\n",
    "        print(\"Error: \", e)\n",
    "\n",
    "    finally:\n",
    "        cursor.close()\n",
    "        conn.close()\n",
    "\n",
    "def insert_msql_table(query_insert, table_values):\n",
    "    \"\"\"execute query to insert values to table\n",
    "    :query_table:: to create scheme table\n",
    "    :table_values:: to be inserted table\n",
    "    \"\"\"\n",
    "\n",
    "    conn = None\n",
    "    try:\n",
    "        db_config = read_db_config() #Using configuration file to connect to database\n",
    "        print('Connecting to MYSQL database...')\n",
    "        conn = MySQLConnection(**db_config)\n",
    "        print('Connected to MYSQL database')\n",
    "\n",
    "        cursor = conn.cursor()\n",
    "        print('creating MYSQL table...')\n",
    "        cursor.executemany(query_insert, table_values)\n",
    "\n",
    "        conn.commit()\n",
    "        print('MYSQL table created')\n",
    "\n",
    "    except Error as e:\n",
    "        print(\"Error: \", e)\n",
    "\n",
    "    finally:\n",
    "        cursor.close()\n",
    "        conn.close()"
   ]
  },
  {
   "cell_type": "code",
   "execution_count": null,
   "metadata": {},
   "outputs": [],
   "source": [
    "def main():\n",
    "    # To create Foreign key, departmentId, in employee table, references to department table Id\n",
    "    # we need to create department table first with Id as primary key\n",
    "    query_create_department_table = \"CREATE TABLE Department (Id INT PRIMARY KEY, Name VARCHAR(255));\"\n",
    "    query_create_employee_table = \"CREATE TABLE Employee (Id INT PRIMARY KEY, Name VARCHAR(255), Salary INTEGER, departmentId INT FOREIGN KEY REFERENCES Department(Id));\"\n",
    "    query_insert_department = \"INSERT INTO Logs (Id,Num) VALUES(%s,%s)\"\n",
    "    #change Id integer and Num values for every run, to get distinct Id\n",
    "    logs = [(1, '1'),\n",
    "            (2, '1'),\n",
    "            (3, '1'),\n",
    "            (4, '2'), \n",
    "            (5, '1'),\n",
    "            (6, '2'),\n",
    "            (7, '2'),\n",
    "            (8, '2'),\n",
    "            (9, '3'),\n",
    "            (10, '3')]\n",
    "    create_msql_table(query_create)\n",
    "    insert_msql_table(query_insert, logs)\n",
    "\n",
    "if __name__ == '__main__':\n",
    "    main()"
   ]
  }
 ],
 "metadata": {
  "kernelspec": {
   "display_name": "sql_practises",
   "language": "python",
   "name": "python3"
  },
  "language_info": {
   "codemirror_mode": {
    "name": "ipython",
    "version": 3
   },
   "file_extension": ".py",
   "mimetype": "text/x-python",
   "name": "python",
   "nbconvert_exporter": "python",
   "pygments_lexer": "ipython3",
   "version": "3.9.12"
  },
  "orig_nbformat": 4
 },
 "nbformat": 4,
 "nbformat_minor": 2
}
