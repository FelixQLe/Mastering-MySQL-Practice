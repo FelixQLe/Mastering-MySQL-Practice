{
 "cells": [
  {
   "attachments": {},
   "cell_type": "markdown",
   "id": "25b6e497",
   "metadata": {},
   "source": [
    "### steps\n",
    "1. Create an sample SQL database\n",
    "2. create config.ini for Mysql database connection\n",
    "3. create table\n",
    "4. performing SQL on database to solve problem"
   ]
  },
  {
   "cell_type": "code",
   "execution_count": 2,
   "id": "b2b5a0f8",
   "metadata": {},
   "outputs": [],
   "source": [
    "from mysql.connector import MySQLConnection, Error\n",
    "import mysql\n",
    "from python_mysql_dbconfig import read_db_config # Read database configuration file and return a dictionary database object"
   ]
  },
  {
   "cell_type": "code",
   "execution_count": 3,
   "id": "bad4e5d6",
   "metadata": {},
   "outputs": [],
   "source": [
    "def create_msql_database(name_database):\n",
    "    \"\"\"Function create MYSQL database\"\"\"\n",
    "    mydb = mysql.connector.connect(host='localhost',\n",
    "                                      user='root',\n",
    "                                      password='root')\n",
    "    \n",
    "    mycursor = mydb.cursor()\n",
    "    mycursor.execute(\"SHOW DATABASES\")\n",
    "    databases = [x[0] for x in mycursor]\n",
    "    if name_database not in databases:\n",
    "        mycursor.execute(f\"CREATE DATABASE IF NOT EXISTS {name_database}\")\n",
    "    # Check database\n"
   ]
  },
  {
   "cell_type": "code",
   "execution_count": 4,
   "id": "5a39bad1",
   "metadata": {},
   "outputs": [],
   "source": [
    "def create_msql_table(query_create):\n",
    "    \"\"\"\n",
    "    Execute query to create table\n",
    "    :query_create:: to create table\n",
    "    \"\"\"\n",
    "\n",
    "    conn = None\n",
    "    try:\n",
    "        db_config = read_db_config() #Using configuration file to connect to database\n",
    "        print('Connecting to MYSQL database...')\n",
    "        conn = MySQLConnection(**db_config)\n",
    "        print('Connected to MYSQL database')\n",
    "        cursor = conn.cursor()\n",
    "        print('Creating Mysql table...')\n",
    "        cursor.execute(query_create)\n",
    "        print('Table created')\n",
    "    except Error as e:\n",
    "        print(\"Error: \", e)\n",
    "\n",
    "    finally:\n",
    "        cursor.close()\n",
    "        conn.close()\n",
    "\n",
    "def insert_msql_table(query_insert, table_values):\n",
    "    \"\"\"execute query to insert values to table\n",
    "    :query_table:: to create scheme table\n",
    "    :table_values:: to be inserted table\n",
    "    \"\"\"\n",
    "\n",
    "    conn = None\n",
    "    try:\n",
    "        db_config = read_db_config() #Using configuration file to connect to database\n",
    "        print('Connecting to MYSQL database...')\n",
    "        conn = MySQLConnection(**db_config)\n",
    "        print('Connected to MYSQL database')\n",
    "\n",
    "        cursor = conn.cursor()\n",
    "        print('creating MYSQL table...')\n",
    "        cursor.executemany(query_insert, table_values)\n",
    "\n",
    "        conn.commit()\n",
    "        print('MYSQL table created')\n",
    "\n",
    "    except Error as e:\n",
    "        print(\"Error: \", e)\n",
    "\n",
    "    finally:\n",
    "        cursor.close()\n",
    "        conn.close()"
   ]
  },
  {
   "cell_type": "code",
   "execution_count": 5,
   "id": "2abf2a62",
   "metadata": {},
   "outputs": [
    {
     "name": "stdout",
     "output_type": "stream",
     "text": [
      "Connecting to MYSQL database...\n",
      "Connected to MYSQL database\n",
      "Creating Mysql table...\n",
      "Error:  1050 (42S01): Table 'logs' already exists\n",
      "Connecting to MYSQL database...\n",
      "Connected to MYSQL database\n",
      "creating MYSQL table...\n",
      "Error:  1062 (23000): Duplicate entry '1' for key 'logs.PRIMARY'\n"
     ]
    }
   ],
   "source": [
    "def main():\n",
    "    query_create = \"CREATE TABLE Logs (Id INTEGER PRIMARY KEY, Num VARCHAR(30));\"\n",
    "    query_insert = \"INSERT INTO Logs (Id,Num) VALUES(%s,%s)\"\n",
    "    #change Id integer and Num values for every run, to get distinct Id\n",
    "    logs = [(1, '1'),\n",
    "            (2, '1'),\n",
    "            (3, '1'),\n",
    "            (4, '2'), \n",
    "            (5, '1'),\n",
    "            (6, '2'),\n",
    "            (7, '2'),\n",
    "            (8, '2'),\n",
    "            (9, '3'),\n",
    "            (10, '3')]\n",
    "    create_msql_table(query_create)\n",
    "    insert_msql_table(query_insert, logs)\n",
    "\n",
    "if __name__ == '__main__':\n",
    "    main()"
   ]
  },
  {
   "cell_type": "code",
   "execution_count": 7,
   "id": "69df5032",
   "metadata": {},
   "outputs": [
    {
     "name": "stdout",
     "output_type": "stream",
     "text": [
      "('1',)\n",
      "('2',)\n"
     ]
    }
   ],
   "source": [
    "query_fetching_consecutive_number = \"select distinct Num as ConsecutiveNums \\\n",
    "                                    from ( \\\n",
    "                                        select Id, Num, \\\n",
    "                                            lag(Num) over (order by Id) as prev, \\\n",
    "                                            lead(Num) over (order by Id) as next \\\n",
    "                                        from Logs ) temp \\\n",
    "                                    where Num = prev and prev = next\"\n",
    "\n",
    "try:\n",
    "    dbconfig = read_db_config()\n",
    "    conn = MySQLConnection(**dbconfig)\n",
    "    cursor = conn.cursor()\n",
    "    cursor.execute(query_fetching_consecutive_number)\n",
    "\n",
    "    row = cursor.fetchone()\n",
    "\n",
    "    while row is not None:\n",
    "        print(row)\n",
    "        row = cursor.fetchone()\n",
    "\n",
    "except Error as e:\n",
    "    print(e)\n",
    "\n",
    "finally:\n",
    "    cursor.close()\n",
    "    conn.close()"
   ]
  },
  {
   "cell_type": "code",
   "execution_count": 6,
   "id": "df8636d3",
   "metadata": {},
   "outputs": [
    {
     "name": "stdout",
     "output_type": "stream",
     "text": [
      "mysql: [Warning] Using a password on the command line interface can be insecure.\n",
      "+-----------------+\n",
      "| ConsecutiveNums |\n",
      "+-----------------+\n",
      "| 1               |\n",
      "| 2               |\n",
      "+-----------------+\n"
     ]
    }
   ],
   "source": [
    "!mysql -u root --password=root python_mysql -e \"{query_fetching_consecutive_number}\""
   ]
  },
  {
   "cell_type": "code",
   "execution_count": 7,
   "id": "c7fcb25e",
   "metadata": {},
   "outputs": [
    {
     "name": "stdout",
     "output_type": "stream",
     "text": [
      "mysql: [Warning] Using a password on the command line interface can be insecure.\n",
      "+----+------+\n",
      "| Id | Num  |\n",
      "+----+------+\n",
      "|  1 | 1    |\n",
      "|  2 | 1    |\n",
      "|  3 | 1    |\n",
      "|  4 | 2    |\n",
      "|  5 | 1    |\n",
      "|  6 | 2    |\n",
      "|  7 | 2    |\n",
      "|  8 | 2    |\n",
      "|  9 | 3    |\n",
      "| 10 | 3    |\n",
      "+----+------+\n"
     ]
    }
   ],
   "source": [
    "!mysql -u root --password=root python_mysql -e \"select * from Logs\""
   ]
  }
 ],
 "metadata": {
  "kernelspec": {
   "display_name": "sql_practises",
   "language": "python",
   "name": "python3"
  },
  "language_info": {
   "codemirror_mode": {
    "name": "ipython",
    "version": 3
   },
   "file_extension": ".py",
   "mimetype": "text/x-python",
   "name": "python",
   "nbconvert_exporter": "python",
   "pygments_lexer": "ipython3",
   "version": "3.9.12"
  }
 },
 "nbformat": 4,
 "nbformat_minor": 5
}
