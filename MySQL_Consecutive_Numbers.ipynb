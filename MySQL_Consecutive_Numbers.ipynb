{
 "cells": [
  {
   "attachments": {},
   "cell_type": "markdown",
   "id": "25b6e497",
   "metadata": {},
   "source": [
    "### steps\n",
    "1. Create an sample SQL database and table for testing cases\n",
    "2. performing SQL window on database to solve Consecute number problem"
   ]
  },
  {
   "cell_type": "code",
   "execution_count": 10,
   "id": "b2b5a0f8",
   "metadata": {},
   "outputs": [],
   "source": [
    "import mysql.connector\n",
    "from mysql.connector import Error"
   ]
  },
  {
   "cell_type": "code",
   "execution_count": 16,
   "id": "2abf2a62",
   "metadata": {},
   "outputs": [
    {
     "name": "stdout",
     "output_type": "stream",
     "text": [
      "Connected to MYSQL python_mysql\n",
      "Connection closed\n"
     ]
    }
   ],
   "source": [
    "\n",
    "def create_msql_database(name_database):\n",
    "    \"\"\"Function create MYSQL database\"\"\"\n",
    "    mydb = mysql.connector.connect(host='localhost',\n",
    "                                      user='root',\n",
    "                                      password='root')\n",
    "    \n",
    "    mycursor = mydb.cursor()\n",
    "    \n",
    "    mycursor.execute(f\"CREATE DATABASE IF NOT EXISTS {name_database}\")\n",
    "\n",
    "def connect_msql_database(database):\n",
    "    \"\"\"\n",
    "    Function connect to MYSQL database\n",
    "    \"\"\"\n",
    "    conn = None\n",
    "\n",
    "    try:\n",
    "        conn = mysql.connector.connect(host='localhost',\n",
    "                                       database=f'{database}',\n",
    "                                       user='root',\n",
    "                                       password='root')\n",
    "        if conn.is_connected():\n",
    "            print(f'Connected to MYSQL {database}')\n",
    "    \n",
    "    except Error as e:\n",
    "        print(e)\n",
    "\n",
    "    finally:\n",
    "        if conn is not None and conn.is_connected():\n",
    "            conn.close()\n",
    "            print(\"Connection closed\")\n",
    "\n",
    "\n",
    "if __name__ == '__main__':\n",
    "    create_msql_database(\"python_mysql\")\n",
    "    connect_msql_database(\"python_mysql\")\n",
    "\n"
   ]
  },
  {
   "cell_type": "code",
   "execution_count": null,
   "id": "69df5032",
   "metadata": {},
   "outputs": [],
   "source": []
  }
 ],
 "metadata": {
  "kernelspec": {
   "display_name": "sql_practises",
   "language": "python",
   "name": "python3"
  },
  "language_info": {
   "codemirror_mode": {
    "name": "ipython",
    "version": 3
   },
   "file_extension": ".py",
   "mimetype": "text/x-python",
   "name": "python",
   "nbconvert_exporter": "python",
   "pygments_lexer": "ipython3",
   "version": "3.9.12"
  }
 },
 "nbformat": 4,
 "nbformat_minor": 5
}
