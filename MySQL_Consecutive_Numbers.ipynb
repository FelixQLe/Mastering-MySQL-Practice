{
 "cells": [
  {
   "attachments": {},
   "cell_type": "markdown",
   "id": "25b6e497",
   "metadata": {},
   "source": [
    "### steps\n",
    "1. Create an sample SQL database\n",
    "2. performing SQL window on database"
   ]
  },
  {
   "cell_type": "code",
   "execution_count": 4,
   "id": "b2b5a0f8",
   "metadata": {},
   "outputs": [],
   "source": [
    "import mysql.connector\n",
    "from mysql.connector import Error"
   ]
  },
  {
   "cell_type": "code",
   "execution_count": 3,
   "id": "2abf2a62",
   "metadata": {},
   "outputs": [
    {
     "data": {
      "text/plain": [
       "<mysql.connector.connection_cext.CMySQLConnection at 0x118f0cdc0>"
      ]
     },
     "execution_count": 3,
     "metadata": {},
     "output_type": "execute_result"
    }
   ],
   "source": [
    "mysql.connector.connect(host='localhost', database='mysql',\n",
    "                       user='root', password='')"
   ]
  },
  {
   "cell_type": "code",
   "execution_count": null,
   "id": "69df5032",
   "metadata": {},
   "outputs": [],
   "source": []
  }
 ],
 "metadata": {
  "kernelspec": {
   "display_name": "sql_practises",
   "language": "python",
   "name": "python3"
  },
  "language_info": {
   "codemirror_mode": {
    "name": "ipython",
    "version": 3
   },
   "file_extension": ".py",
   "mimetype": "text/x-python",
   "name": "python",
   "nbconvert_exporter": "python",
   "pygments_lexer": "ipython3",
   "version": "3.9.12"
  }
 },
 "nbformat": 4,
 "nbformat_minor": 5
}
