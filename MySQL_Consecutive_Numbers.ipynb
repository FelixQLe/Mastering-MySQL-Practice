{
 "cells": [
  {
   "cell_type": "code",
   "execution_count": 1,
   "id": "8f6184c3",
   "metadata": {},
   "outputs": [],
   "source": [
    "import mysql.connector"
   ]
  },
  {
   "cell_type": "code",
   "execution_count": null,
   "id": "ae29c92e",
   "metadata": {},
   "outputs": [],
   "source": [
    "mysql.connector.connect(host='localhost', database='mysql', )"
   ]
  }
 ],
 "metadata": {
  "kernelspec": {
   "display_name": "sql_practises",
   "language": "python",
   "name": "sql_practises"
  },
  "language_info": {
   "codemirror_mode": {
    "name": "ipython",
    "version": 3
   },
   "file_extension": ".py",
   "mimetype": "text/x-python",
   "name": "python",
   "nbconvert_exporter": "python",
   "pygments_lexer": "ipython3",
   "version": "3.9.12"
  }
 },
 "nbformat": 4,
 "nbformat_minor": 5
}
