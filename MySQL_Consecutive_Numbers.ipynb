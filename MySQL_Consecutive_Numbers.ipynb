{
 "cells": [
  {
   "attachments": {},
   "cell_type": "markdown",
   "id": "25b6e497",
   "metadata": {},
   "source": [
    "### steps\n",
    "1. Create an sample SQL database and table for testing cases\n",
    "2. performing SQL window on database to solve Consecute number problem"
   ]
  },
  {
   "cell_type": "code",
   "execution_count": 45,
   "id": "b2b5a0f8",
   "metadata": {},
   "outputs": [],
   "source": [
    "from mysql.connector import MySQLConnection, Error\n",
    "from python_mysql_dbconfig import read_db_config # Read database configuration file and return a dictionary database object"
   ]
  },
  {
   "cell_type": "code",
   "execution_count": 44,
   "id": "bad4e5d6",
   "metadata": {},
   "outputs": [],
   "source": [
    "def create_msql_database(name_database):\n",
    "    \"\"\"Function create MYSQL database\"\"\"\n",
    "    mydb = mysql.connector.connect(host='localhost',\n",
    "                                      user='root',\n",
    "                                      password='root')\n",
    "    \n",
    "    mycursor = mydb.cursor()\n",
    "    mycursor.execute(\"SHOW DATABASES\")\n",
    "    databases = [x[0] for x in mycursor]\n",
    "    if name_database not in databases:\n",
    "        mycursor.execute(f\"CREATE DATABASE IF NOT EXISTS {name_database}\")\n",
    "    # Check database\n"
   ]
  },
  {
   "cell_type": "code",
   "execution_count": 17,
   "id": "2abf2a62",
   "metadata": {},
   "outputs": [
    {
     "name": "stdout",
     "output_type": "stream",
     "text": [
      "1049 (42000): Unknown database 'python_my'\n"
     ]
    }
   ],
   "source": [
    "def create_msql_table(name_table):\n",
    "    \"\"\"Connect to MYSQL database\"\"\"\n",
    "\n",
    "    db_config = read_db_config()\n",
    "    conn = None\n",
    "    try:\n",
    "        print('Connecting to MYSQL database...')\n",
    "        conn = MySQLConnection(**db_config)\n",
    "\n",
    "        if conn.is_connected():\n",
    "            print('Connection established')\n",
    "        else:\n",
    "            print('Connection failed')\n",
    "\n",
    "    except Error as e:\n",
    "        print(e)\n",
    "\n"
   ]
  },
  {
   "cell_type": "code",
   "execution_count": null,
   "id": "69df5032",
   "metadata": {},
   "outputs": [],
   "source": []
  }
 ],
 "metadata": {
  "kernelspec": {
   "display_name": "sql_practises",
   "language": "python",
   "name": "python3"
  },
  "language_info": {
   "codemirror_mode": {
    "name": "ipython",
    "version": 3
   },
   "file_extension": ".py",
   "mimetype": "text/x-python",
   "name": "python",
   "nbconvert_exporter": "python",
   "pygments_lexer": "ipython3",
   "version": "3.9.12"
  }
 },
 "nbformat": 4,
 "nbformat_minor": 5
}
