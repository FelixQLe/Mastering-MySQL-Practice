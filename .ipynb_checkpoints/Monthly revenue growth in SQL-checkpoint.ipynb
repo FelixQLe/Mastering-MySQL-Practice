{
 "cells": [
  {
   "cell_type": "markdown",
   "id": "f3892c0c",
   "metadata": {},
   "source": [
    "### steps\n",
    "1. Create an sample SQL database\n",
    "2. performing SQL query on database"
   ]
  },
  {
   "cell_type": "code",
   "execution_count": 1,
   "id": "489b198b",
   "metadata": {},
   "outputs": [],
   "source": [
    "import sqlite3\n",
    "from sqlite3 import Error"
   ]
  },
  {
   "cell_type": "code",
   "execution_count": 4,
   "id": "653fc362",
   "metadata": {},
   "outputs": [],
   "source": [
    "#Create an table employee salary in sqlite database\n",
    "def create_connection(db_file):\n",
    "    \"\"\" create a database connection to the SQLite database\n",
    "        specified by db_file\n",
    "    :param db_file: database file\n",
    "    :return: Connection object or None\n",
    "    \"\"\"\n",
    "    conn = None\n",
    "    try:\n",
    "        conn = sqlite3.connect(db_file)\n",
    "    except Error as e:\n",
    "        print(e)\n",
    "            \n",
    "    return conn\n",
    "def create_revenue_table(conn, revenue):\n",
    "    \"\"\"\n",
    "    Create a new task\n",
    "    :param conn:\n",
    "    :param revenue:\n",
    "    :return:\n",
    "    \"\"\"\n",
    "    sql_revenue_table = '''CREATE TABLE IF NOT EXISTS orders\n",
    "                            ([order_id] int,\n",
    "                            [channel] varchar(11),\n",
    "                            [date] datetime,\n",
    "                            [month] int,\n",
    "                            [revenue] int);\n",
    "                            '''\n",
    "    sql = '''INSERT INTO orders(order_id, channel, date, month, revenue)\n",
    "            VALUES(?,?,?,?,?);'''\n",
    "    cur = conn.cursor()\n",
    "    cur.execute(sql_revenue_table)\n",
    "    cur.executemany(sql, revenue)\n",
    "    conn.commit()\n",
    "    return cur.lastrowid\n",
    "\n",
    "def main():\n",
    "    database = r\"../sql_revenue.db\"\n",
    "    \n",
    "    \n",
    "    #create a database connection\n",
    "    conn = create_connection(database)\n",
    "    with conn:\n",
    "        task_1 = [(1,\"online\",\"2018-09-01\",9,100),\n",
    "                    (2,\"online\",\"2018-09-03\",9,125),\n",
    "                    (3,\"in_store\",\"2018-10-11\",10,200),\n",
    "                    (4,\"in_store\",\"2018-08-21\",8,80),\n",
    "                    (5,\"online\",\"2018-08-13\",8,200)]\n",
    "        #create revenue table\n",
    "        create_revenue_table(conn, task_1)\n",
    "\n",
    "if __name__=='__main__':\n",
    "    main()"
   ]
  },
  {
   "cell_type": "code",
   "execution_count": null,
   "id": "7a10d98c",
   "metadata": {},
   "outputs": [],
   "source": []
  },
  {
   "cell_type": "code",
   "execution_count": null,
   "id": "b6452eec",
   "metadata": {},
   "outputs": [],
   "source": [
    "#test database created above\n"
   ]
  }
 ],
 "metadata": {
  "kernelspec": {
   "display_name": "Python 3.8 (tensorflow)",
   "language": "python",
   "name": "lighthouse"
  },
  "language_info": {
   "codemirror_mode": {
    "name": "ipython",
    "version": 3
   },
   "file_extension": ".py",
   "mimetype": "text/x-python",
   "name": "python",
   "nbconvert_exporter": "python",
   "pygments_lexer": "ipython3",
   "version": "3.9.13"
  }
 },
 "nbformat": 4,
 "nbformat_minor": 5
}
