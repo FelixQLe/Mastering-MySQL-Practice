{
 "cells": [
  {
   "cell_type": "code",
   "execution_count": 1,
   "metadata": {},
   "outputs": [],
   "source": [
    "import mysql\n",
    "from mysql.connector import MySQLConnection, Error\n",
    "from python_mysql_dbconfig import read_db_config # Read database configuration file and return a dictionary database object"
   ]
  },
  {
   "cell_type": "code",
   "execution_count": 2,
   "metadata": {},
   "outputs": [],
   "source": [
    "def create_msql_database(name_database):\n",
    "    \"\"\"Function create MYSQL database to save into db config file\"\"\"\n",
    "    mydb = mysql.connector.connect(host='localhost',\n",
    "                                      user='root',\n",
    "                                      password='root')\n",
    "    \n",
    "    mycursor = mydb.cursor()\n",
    "    mycursor.execute(\"SHOW DATABASES\")\n",
    "    databases = [x[0] for x in mycursor]\n",
    "    if name_database not in databases:\n",
    "        mycursor.execute(f\"CREATE DATABASE IF NOT EXISTS {name_database}\")\n",
    "    # Check database\n",
    "\n",
    "    \n",
    "def create_msql_table(query_create):\n",
    "    \"\"\"\n",
    "    Execute query to create table\n",
    "    :query_create:: to create table\n",
    "    \"\"\"\n",
    "\n",
    "    conn = None\n",
    "    try:\n",
    "        db_config = read_db_config() #Using configuration file to connect to database\n",
    "        print('Connecting to MYSQL database...')\n",
    "        conn = MySQLConnection(**db_config)\n",
    "        print('Connected to MYSQL database')\n",
    "        cursor = conn.cursor()\n",
    "        print('Creating Mysql table...')\n",
    "        cursor.execute(query_create)\n",
    "        print('Table created')\n",
    "    except Error as e:\n",
    "        print(\"Error: \", e)\n",
    "\n",
    "    finally:\n",
    "        cursor.close()\n",
    "        conn.close()\n",
    "\n",
    "def insert_msql_table(data_dir):\n",
    "    \"\"\"execute query to insert values to table\n",
    "    :query_table:: to create scheme table\n",
    "    :table_values:: to be inserted table\n",
    "    \"\"\"\n",
    "\n",
    "    conn = None\n",
    "    try:\n",
    "        db_config = read_db_config() #Using configuration file to connect to database\n",
    "        print('Connecting to MYSQL database...')\n",
    "        conn = MySQLConnection(**db_config)\n",
    "        print('Connected to MYSQL database')\n",
    "\n",
    "        cursor = conn.cursor()\n",
    "        print('creating MYSQL table...')\n",
    "        cursor.execute(data_dir)\n",
    "\n",
    "        conn.commit()\n",
    "        print('MYSQL table created')\n",
    "\n",
    "    except Error as e:\n",
    "        print(\"Error: \", e)\n",
    "\n",
    "    finally:\n",
    "        cursor.close()\n",
    "        conn.close()\n",
    "\n"
   ]
  },
  {
   "cell_type": "code",
   "execution_count": 3,
   "metadata": {},
   "outputs": [],
   "source": [
    "\n",
    "query_create = \"CREATE TABLE Logs (Id INTEGER PRIMARY KEY, Num VARCHAR(30));\"\n",
    "# Create the table (if it doesn't exist)\n",
    "create_network_table = \"CREATE TABLE IF NOT EXIST network (net_id VARCHAR(255) UNIQUE, \\\n",
    "                                                            net_name VARCHAR(255), cidr VARCHAR(255) UNIQUE, \\\n",
    "                                                                net_range VARCHAR(255), net_type VARCHAR(255), \\\n",
    "                                                                    asn VARCHAR(255), org_cust_id VARCHAR(255), updated DATE);\""
   ]
  },
  {
   "cell_type": "code",
   "execution_count": null,
   "metadata": {},
   "outputs": [],
   "source": [
    "########\n",
    "\n",
    "import_tsv_to_mysql(\n",
    "    host=\"localhost\",\n",
    "    database=\"your_database\",\n",
    "    user=\"your_user\",\n",
    "    password=\"your_password\",\n",
    "    tsv_file_path=\"/path/to/your/data.tsv\",\n",
    "    table_name=\"people\",\n",
    "    skip_header=True\n",
    ")"
   ]
  },
  {
   "cell_type": "code",
   "execution_count": null,
   "metadata": {},
   "outputs": [],
   "source": []
  }
 ],
 "metadata": {
  "kernelspec": {
   "display_name": "thinkcx",
   "language": "python",
   "name": "python3"
  },
  "language_info": {
   "codemirror_mode": {
    "name": "ipython",
    "version": 3
   },
   "file_extension": ".py",
   "mimetype": "text/x-python",
   "name": "python",
   "nbconvert_exporter": "python",
   "pygments_lexer": "ipython3",
   "version": "3.9.12"
  },
  "orig_nbformat": 4
 },
 "nbformat": 4,
 "nbformat_minor": 2
}
