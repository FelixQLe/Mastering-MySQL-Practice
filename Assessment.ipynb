{
 "cells": [
  {
   "cell_type": "code",
   "execution_count": 1,
   "metadata": {},
   "outputs": [],
   "source": [
    "import mysql\n",
    "from mysql.connector import MySQLConnection, Error\n",
    "from python_mysql_dbconfig import read_db_config # Read database configuration file and return a dictionary database object"
   ]
  },
  {
   "cell_type": "code",
   "execution_count": 2,
   "metadata": {},
   "outputs": [],
   "source": [
    "def create_msql_database(name_database):\n",
    "    \"\"\"Function create MYSQL database to save into db config file\"\"\"\n",
    "    mydb = mysql.connector.connect(host='localhost',\n",
    "                                      user='root',\n",
    "                                      password='root')\n",
    "    \n",
    "    mycursor = mydb.cursor()\n",
    "    mycursor.execute(\"SHOW DATABASES\")\n",
    "    databases = [x[0] for x in mycursor]\n",
    "    if name_database not in databases:\n",
    "        mycursor.execute(f\"CREATE DATABASE IF NOT EXISTS {name_database}\")\n",
    "    else:\n",
    "        print(\"Database exists\")\n",
    "    mycursor.close()\n",
    "    \n",
    "def create_msql_table(query_create):\n",
    "    \"\"\"\n",
    "    Execute query to create table\n",
    "    :query_create:: to create table\n",
    "    \"\"\"\n",
    "\n",
    "    conn = None\n",
    "    try:\n",
    "        db_config = read_db_config() #Using configuration file to connect to database\n",
    "        print('Connecting to MYSQL database...')\n",
    "        conn = MySQLConnection(**db_config)\n",
    "        print('Connected to MYSQL database')\n",
    "        cursor = conn.cursor()\n",
    "        print('Creating Mysql table...')\n",
    "        cursor.execute(query_create)\n",
    "        print('Table created')\n",
    "    except Error as e:\n",
    "        print(\"Error: \", e)\n",
    "\n",
    "    finally:\n",
    "        cursor.close()\n",
    "        conn.close()\n",
    "\n",
    "def insert_msql_table(file_dir, table_name):\n",
    "    \"\"\"execute query to insert tsv file into table\n",
    "    :file_dir:: file path\n",
    "    :table_name:: name of table to be insterted\n",
    "    :skip_header:: use header \n",
    "    \"\"\"\n",
    "\n",
    "    conn = None\n",
    "    try:\n",
    "        db_config = read_db_config() #Using configuration file to connect to database\n",
    "        print('Connecting to MYSQL database...')\n",
    "        conn = MySQLConnection(**db_config)\n",
    "        print('Connected to MYSQL database')\n",
    "\n",
    "        cursor = conn.cursor()\n",
    "        print('creating MYSQL table...')\n",
    "        load_data_query = f\"LOAD DATA INFILE '{file_dir}' INTO TABLE {table_name}\\\n",
    "                                FIELDS TERMINATED BY '\\t'\\\n",
    "                                LINES TERMINATED BY '\\n'\\\n",
    "                                IGNORE 1 LINES\\\n",
    "                                (@net_id, @net_name, @cidr, @net_range, @net_type, @asn, @org_cust_id, @updated)\\\n",
    "                                SET net_id = NULLIF(@net_id, ' '), net_name = NULLIF(@net_name, ' '), cidr = NULLIF(@cidr, ' '), net_range = NULLIF(@net_range, ' '), net_type = NULLIF(@net_type, ' '), asn = NULLIF(@asn, ' '), org_cust_id = NULLIF(@org_cust_id, ' '), updated = NULLIF(@updated, ' ')\\\n",
    "                                ON DUPLICATE KEY UPDATE net_name = VALUES(net_name), cidr = VALUES(cidr), net_range = VALUES(net_range), net_type = VALUES(net_type), asn = VALUES(asn), org_cust_id = VALUES(org_cust_id), updated = VALUES(updated);\"\n",
    "\n",
    "\n",
    "        cursor.execute(load_data_query)\n",
    "\n",
    "        conn.commit()\n",
    "        print('MYSQL table created')\n",
    "\n",
    "    except Error as e:\n",
    "        print(\"Error: \", e)\n",
    "\n",
    "    finally:\n",
    "        cursor.close()\n",
    "        conn.close()\n",
    "\n"
   ]
  },
  {
   "cell_type": "code",
   "execution_count": 3,
   "metadata": {},
   "outputs": [],
   "source": [
    "\n",
    "# Create the table (if it doesn't exist)\n",
    "network_table = \"CREATE TABLE network (net_id VARCHAR(255) UNIQUE, \\\n",
    "                                            net_name VARCHAR(255), cidr VARCHAR(255) UNIQUE, \\\n",
    "                                                net_range VARCHAR(255), net_type VARCHAR(255), \\\n",
    "                                                    asn VARCHAR(255), org_cust_id VARCHAR(255), updated VARCHAR(255));\"\n",
    "organization_table = \"CREATE TABLE organization (org_id VARCHAR(255) UNIQUE, \\\n",
    "                                                            org_name VARCHAR(255), updated VARCHAR(255));\"\n",
    "customer_table = \"CREATE TABLE customer (cust_id VARCHAR(255) UNIQUE, \\\n",
    "                                                            cust_name VARCHAR(255), updated VARCHAR(255));\""
   ]
  },
  {
   "cell_type": "code",
   "execution_count": 4,
   "metadata": {},
   "outputs": [
    {
     "name": "stdout",
     "output_type": "stream",
     "text": [
      "Database exists\n",
      "Connecting to MYSQL database...\n",
      "Connected to MYSQL database\n",
      "Creating Mysql table...\n",
      "Error:  1050 (42S01): Table 'network' already exists\n"
     ]
    }
   ],
   "source": [
    "########\n",
    "create_msql_database('ThinkCX')\n",
    "create_msql_table(network_table)\n",
    "#create_msql_table(organization_table)\n",
    "#create_msql_table(customer_table)"
   ]
  },
  {
   "cell_type": "code",
   "execution_count": 5,
   "metadata": {},
   "outputs": [
    {
     "name": "stdout",
     "output_type": "stream",
     "text": [
      "Connecting to MYSQL database...\n",
      "Connected to MYSQL database\n",
      "creating MYSQL table...\n",
      "Error:  1064 (42000): You have an error in your SQL syntax; check the manual that corresponds to your MySQL server version for the right syntax to use near 'ON DUPLICATE KEY UPDATE net_name = VALUES(net_name), cidr = VALUES(cidr), net_ra' at line 2\n"
     ]
    }
   ],
   "source": [
    "insert_msql_table('/Users/hople/working_folder/Bootcamp_practices/SQL_practice/arin_data_sets/arin_net.tsv', 'network')"
   ]
  },
  {
   "cell_type": "code",
   "execution_count": null,
   "metadata": {},
   "outputs": [],
   "source": []
  }
 ],
 "metadata": {
  "kernelspec": {
   "display_name": "thinkcx",
   "language": "python",
   "name": "python3"
  },
  "language_info": {
   "codemirror_mode": {
    "name": "ipython",
    "version": 3
   },
   "file_extension": ".py",
   "mimetype": "text/x-python",
   "name": "python",
   "nbconvert_exporter": "python",
   "pygments_lexer": "ipython3",
   "version": "3.9.12"
  },
  "orig_nbformat": 4
 },
 "nbformat": 4,
 "nbformat_minor": 2
}
