{
 "cells": [
  {
   "cell_type": "code",
   "execution_count": 2,
   "metadata": {},
   "outputs": [],
   "source": [
    "import pandas as pd"
   ]
  },
  {
   "cell_type": "code",
   "execution_count": null,
   "metadata": {},
   "outputs": [],
   "source": [
    "import mysql.connector\n",
    "\n",
    "# Create the table (if it doesn't exist)\n",
    "create_network_table = \"\"\"CREATE TABLE IF NOT EXIST network (\n",
    "    net_id VARCHAR(255) UNIQUE,\n",
    "    net_name VARCHAR(255),\n",
    "    cidr VARCHAR(255) UNIQUE,\n",
    "    net_range VARCHAR(255),\n",
    "    net_type VARCHAR(255),\n",
    "    asn VARCHAR(255),\n",
    "    org_cust_id VARCHAR(255),\n",
    "    updated DATE\n",
    "    );\"\"\"\n",
    "\n",
    "def import_tsv_to_mysql(host, database, user, password, tsv_file_path, query_create_table, table_name, skip_header=True):\n",
    "    # Connect to MySQL database\n",
    "    connection = mysql.connector.connect(\n",
    "        host=host,\n",
    "        database=database,\n",
    "        user=user,\n",
    "        password=password\n",
    "    )\n",
    "    \n",
    "    try:\n",
    "        cursor = connection.cursor()\n",
    "\n",
    "        cursor.execute(query_create_table)\n",
    "\n",
    "        # Load data from TSV file\n",
    "        load_data_query = f\"\"\"\n",
    "            LOAD DATA INFILE '{tsv_file_path}'\n",
    "            INTO TABLE {table_name}\n",
    "            FIELDS TERMINATED BY '\\\\t'\n",
    "            LINES TERMINATED BY '\\\\n'\n",
    "            {'IGNORE 1 LINES' if skip_header else ''}\n",
    "        \"\"\"\n",
    "        cursor.execute(load_data_query)\n",
    "\n",
    "        # Commit the changes and close the cursor\n",
    "        connection.commit()\n",
    "        cursor.close()\n",
    "        print(\"Data imported successfully!\")\n",
    "    \n",
    "    except mysql.connector.Error as err:\n",
    "        print(f\"Error: {err}\")\n",
    "    \n",
    "    finally:\n",
    "        # Close the database connection\n",
    "        connection.close()\n",
    "\n",
    "# Example usage\n",
    "import_tsv_to_mysql(\n",
    "    host=\"localhost\",\n",
    "    database=\"your_database\",\n",
    "    user=\"your_user\",\n",
    "    password=\"your_password\",\n",
    "    tsv_file_path=\"/path/to/your/data.tsv\",\n",
    "    table_name=\"people\",\n",
    "    skip_header=True\n",
    ")\n"
   ]
  }
 ],
 "metadata": {
  "kernelspec": {
   "display_name": "thinkcx",
   "language": "python",
   "name": "python3"
  },
  "language_info": {
   "codemirror_mode": {
    "name": "ipython",
    "version": 3
   },
   "file_extension": ".py",
   "mimetype": "text/x-python",
   "name": "python",
   "nbconvert_exporter": "python",
   "pygments_lexer": "ipython3",
   "version": "3.10.12"
  },
  "orig_nbformat": 4
 },
 "nbformat": 4,
 "nbformat_minor": 2
}
